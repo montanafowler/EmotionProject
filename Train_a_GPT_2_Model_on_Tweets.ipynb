{
  "nbformat": 4,
  "nbformat_minor": 0,
  "metadata": {
    "colab": {
      "name": "Train a GPT-2 Model on Tweets",
      "provenance": [],
      "collapsed_sections": []
    },
    "kernelspec": {
      "name": "python3",
      "display_name": "Python 3"
    },
    "accelerator": "GPU"
  },
  "cells": [
    {
      "cell_type": "markdown",
      "metadata": {
        "id": "H7LoMj4GA4n_",
        "colab_type": "text"
      },
      "source": [
        "#  Train a GPT-2 Model on Tweets\n",
        "\n",
        "by [Max Woolf](http://minimaxir.com)\n",
        "\n",
        "To get started:\n",
        "\n",
        "1. Copy this notebook to your Google Drive to keep it and save your changes. (File -> Save a Copy in Drive)\n",
        "2. Make sure you're running the notebook in Google Chrome.\n",
        "3. Run the cells below:\n"
      ]
    },
    {
      "cell_type": "code",
      "metadata": {
        "id": "KBkpRgBCBS2_",
        "colab_type": "code",
        "outputId": "c3832cd7-6796-4dc0-c915-5df2760f6c3d",
        "colab": {
          "base_uri": "https://localhost:8080/",
          "height": 151
        }
      },
      "source": [
        "%tensorflow_version 1.x\n",
        "!pip install -q gpt-2-simple\n",
        "import gpt_2_simple as gpt2\n",
        "from datetime import datetime\n",
        "from google.colab import files"
      ],
      "execution_count": 0,
      "outputs": [
        {
          "output_type": "stream",
          "text": [
            "WARNING:tensorflow:\n",
            "The TensorFlow contrib module will not be included in TensorFlow 2.0.\n",
            "For more information, please see:\n",
            "  * https://github.com/tensorflow/community/blob/master/rfcs/20180907-contrib-sunset.md\n",
            "  * https://github.com/tensorflow/addons\n",
            "  * https://github.com/tensorflow/io (for I/O related ops)\n",
            "If you depend on functionality not listed there, please file an issue.\n",
            "\n"
          ],
          "name": "stdout"
        }
      ]
    },
    {
      "cell_type": "markdown",
      "metadata": {
        "id": "Bj2IJLHP3KwE",
        "colab_type": "text"
      },
      "source": [
        "## GPU\n",
        "\n",
        "Colaboratory uses a Nvidia T4 GPU, Nvidia K80 GPU, or a P100 GPU. The P100 is ideal. The T4 is slightly faster than the old K80 for training GPT-2, and has more memory allowing you to train the larger GPT-2 models and generate more text.\n",
        "\n",
        "You can verify which GPU is active by running the cell below."
      ]
    },
    {
      "cell_type": "code",
      "metadata": {
        "id": "sUmTooTW3osf",
        "colab_type": "code",
        "outputId": "be6289d1-13ee-4690-d4ea-af76583666a9",
        "colab": {
          "base_uri": "https://localhost:8080/",
          "height": 302
        }
      },
      "source": [
        "!nvidia-smi"
      ],
      "execution_count": 0,
      "outputs": [
        {
          "output_type": "stream",
          "text": [
            "Sun Feb 16 21:05:34 2020       \n",
            "+-----------------------------------------------------------------------------+\n",
            "| NVIDIA-SMI 440.48.02    Driver Version: 418.67       CUDA Version: 10.1     |\n",
            "|-------------------------------+----------------------+----------------------+\n",
            "| GPU  Name        Persistence-M| Bus-Id        Disp.A | Volatile Uncorr. ECC |\n",
            "| Fan  Temp  Perf  Pwr:Usage/Cap|         Memory-Usage | GPU-Util  Compute M. |\n",
            "|===============================+======================+======================|\n",
            "|   0  Tesla P100-PCIE...  Off  | 00000000:00:04.0 Off |                    0 |\n",
            "| N/A   33C    P0    25W / 250W |      0MiB / 16280MiB |      0%      Default |\n",
            "+-------------------------------+----------------------+----------------------+\n",
            "                                                                               \n",
            "+-----------------------------------------------------------------------------+\n",
            "| Processes:                                                       GPU Memory |\n",
            "|  GPU       PID   Type   Process name                             Usage      |\n",
            "|=============================================================================|\n",
            "|  No running processes found                                                 |\n",
            "+-----------------------------------------------------------------------------+\n"
          ],
          "name": "stdout"
        }
      ]
    },
    {
      "cell_type": "markdown",
      "metadata": {
        "id": "0wXB05bPDYxS",
        "colab_type": "text"
      },
      "source": [
        "## Downloading GPT-2\n",
        "\n",
        "If you're retraining a model on new text, you need to download the GPT-2 model first. \n",
        "\n",
        "* `124M` (default): the \"small\" model, 500MB on disk.\n",
        "* `355M`: the \"medium\" model, 1.5GB on disk.\n",
        "\n",
        "Using the `774M` or `1558M` models is not recommended with tweet data, as tweets are short.\n",
        "\n",
        "You can specify which base model to use by changing `model_name` in the cells below.\n",
        "\n",
        "The next cell downloads it from Google Cloud Storage and saves it in the Colaboratory VM at `/models/<model_name>`.\n",
        "\n",
        "This model isn't permanently saved in the Colaboratory VM; you'll have to redownload it if you want to retrain it at a later time."
      ]
    },
    {
      "cell_type": "code",
      "metadata": {
        "id": "P8wSlgXoDPCR",
        "colab_type": "code",
        "outputId": "8ee9091b-d7a5-426a-dcfb-a3f8c9da1e3f",
        "colab": {
          "base_uri": "https://localhost:8080/",
          "height": 134
        }
      },
      "source": [
        "gpt2.download_gpt2(model_name=\"355M\")"
      ],
      "execution_count": 0,
      "outputs": [
        {
          "output_type": "stream",
          "text": [
            "Fetching checkpoint: 1.05Mit [00:00, 491Mit/s]                                                      \n",
            "Fetching encoder.json: 1.05Mit [00:00, 104Mit/s]                                                    \n",
            "Fetching hparams.json: 1.05Mit [00:00, 404Mit/s]                                                    \n",
            "Fetching model.ckpt.data-00000-of-00001: 1.42Git [00:08, 131Mit/s]                                  \n",
            "Fetching model.ckpt.index: 1.05Mit [00:00, 367Mit/s]                                                \n",
            "Fetching model.ckpt.meta: 1.05Mit [00:00, 119Mit/s]                                                 \n",
            "Fetching vocab.bpe: 1.05Mit [00:00, 139Mit/s]                                                       \n"
          ],
          "name": "stderr"
        }
      ]
    },
    {
      "cell_type": "markdown",
      "metadata": {
        "id": "N8KXuKWzQSsN",
        "colab_type": "text"
      },
      "source": [
        "## Mounting Google Drive\n",
        "\n",
        "The best way to get input text to-be-trained into the Colaboratory VM, and to get the trained model *out* of Colaboratory, is to route it through Google Drive *first*.\n",
        "\n",
        "Running this cell (which will only work in Colaboratory) will mount your personal Google Drive in the VM, which later cells can use to get data in/out. (it will ask for an auth code; that auth is not saved anywhere)"
      ]
    },
    {
      "cell_type": "code",
      "metadata": {
        "id": "puq4iC6vUAHc",
        "colab_type": "code",
        "outputId": "fda5454f-88ad-4cca-950e-ca10d395a86c",
        "colab": {
          "base_uri": "https://localhost:8080/",
          "height": 34
        }
      },
      "source": [
        "gpt2.mount_gdrive()"
      ],
      "execution_count": 0,
      "outputs": [
        {
          "output_type": "stream",
          "text": [
            "Drive already mounted at /content/drive; to attempt to forcibly remount, call drive.mount(\"/content/drive\", force_remount=True).\n"
          ],
          "name": "stdout"
        }
      ]
    },
    {
      "cell_type": "markdown",
      "metadata": {
        "id": "BT__brhBCvJu",
        "colab_type": "text"
      },
      "source": [
        "## Uploading a Text File to be Trained to Colaboratory\n",
        "\n",
        "In the Colaboratory Notebook sidebar on the left of the screen, select *Files*. From there you can upload files:\n",
        "\n",
        "![alt text](https://i.imgur.com/TGcZT4h.png)\n",
        "\n",
        "Upload **any smaller text file**  (<10 MB) and update the file name in the cell below, then run the cell."
      ]
    },
    {
      "cell_type": "code",
      "metadata": {
        "id": "6OFnPCLADfll",
        "colab_type": "code",
        "colab": {}
      },
      "source": [
        "file_name = \"sosadtoday_tweets.csv\""
      ],
      "execution_count": 0,
      "outputs": []
    },
    {
      "cell_type": "markdown",
      "metadata": {
        "id": "HeeSKtNWUedE",
        "colab_type": "text"
      },
      "source": [
        "If your text file is larger than 10MB, it is recommended to upload that file to Google Drive first, then copy that file from Google Drive to the Colaboratory VM."
      ]
    },
    {
      "cell_type": "code",
      "metadata": {
        "id": "-Z6okFD8VKtS",
        "colab_type": "code",
        "colab": {}
      },
      "source": [
        "gpt2.copy_file_from_gdrive(file_name)"
      ],
      "execution_count": 0,
      "outputs": []
    },
    {
      "cell_type": "markdown",
      "metadata": {
        "id": "LdpZQXknFNY3",
        "colab_type": "text"
      },
      "source": [
        "## Finetune GPT-2\n",
        "\n",
        "The next cell will start the actual finetuning of GPT-2. It creates a persistent TensorFlow session which stores the training config, then runs the training for the specified number of `steps`. (to have the finetuning run indefinitely, set `steps = -1`)\n",
        "\n",
        "The model checkpoints will be saved in `/checkpoint/run1` by default. The checkpoints are saved every 500 steps (can be changed) and when the cell is stopped.\n",
        "\n",
        "The training might time out after 4ish hours; make sure you end training and save the results so you don't lose them!\n",
        "\n",
        "**IMPORTANT NOTE:** If you want to rerun this cell, **restart the VM first** (Runtime -> Restart Runtime). You will need to rerun imports but not recopy files.\n",
        "\n",
        "Other optional-but-helpful parameters for `gpt2.finetune`:\n",
        "\n",
        "\n",
        "*  **`restore_from`**: Set to `fresh` to start training from the base GPT-2, or set to `latest` to restart training from an existing checkpoint.\n",
        "* **`sample_every`**: Number of steps to print example output\n",
        "* **`print_every`**: Number of steps to print training progress.\n",
        "* **`learning_rate`**:  Learning rate for the training. (default `1e-4`, can lower to `1e-5` if you have <1MB input data)\n",
        "*  **`run_name`**: subfolder within `checkpoint` to save the model. This is useful if you want to work with multiple models (will also need to specify  `run_name` when loading the model)\n",
        "* **`overwrite`**: Set to `True` if you want to continue finetuning an existing model (w/ `restore_from='latest'`) without creating duplicate copies. "
      ]
    },
    {
      "cell_type": "code",
      "metadata": {
        "id": "aeXshJM-Cuaf",
        "colab_type": "code",
        "outputId": "4b7cecab-42cf-4822-f0a7-feef2f3c02e1",
        "colab": {
          "base_uri": "https://localhost:8080/",
          "height": 1000
        }
      },
      "source": [
        "sess = gpt2.start_tf_sess()\n",
        "\n",
        "gpt2.finetune(sess,\n",
        "              dataset=file_name,\n",
        "              model_name='355M',\n",
        "              steps=2000,\n",
        "              restore_from='fresh',\n",
        "              run_name='run1',\n",
        "              print_every=10,\n",
        "              sample_every=500,\n",
        "              save_every=500\n",
        "              )"
      ],
      "execution_count": 0,
      "outputs": [
        {
          "output_type": "stream",
          "text": [
            "WARNING:tensorflow:From /usr/local/lib/python3.6/dist-packages/gpt_2_simple/src/sample.py:17: where (from tensorflow.python.ops.array_ops) is deprecated and will be removed in a future version.\n",
            "Instructions for updating:\n",
            "Use tf.where in 2.0, which has the same broadcast rule as np.where\n",
            "WARNING:tensorflow:From /usr/local/lib/python3.6/dist-packages/gpt_2_simple/src/memory_saving_gradients.py:62: get_backward_walk_ops (from tensorflow.contrib.graph_editor.select) is deprecated and will be removed after 2019-06-06.\n",
            "Instructions for updating:\n",
            "Please use tensorflow.python.ops.op_selector.get_backward_walk_ops.\n",
            "Loading checkpoint models/355M/model.ckpt\n",
            "INFO:tensorflow:Restoring parameters from models/355M/model.ckpt\n"
          ],
          "name": "stdout"
        },
        {
          "output_type": "stream",
          "text": [
            "100%|██████████| 1/1 [00:00<00:00, 32.97it/s]"
          ],
          "name": "stderr"
        },
        {
          "output_type": "stream",
          "text": [
            "Loading dataset...\n"
          ],
          "name": "stdout"
        },
        {
          "output_type": "stream",
          "text": [
            "\n"
          ],
          "name": "stderr"
        },
        {
          "output_type": "stream",
          "text": [
            "dataset has 495281 tokens\n",
            "Training...\n",
            "[10 | 18.42] loss=0.69 avg=0.69\n",
            "[20 | 27.28] loss=0.99 avg=0.84\n",
            "[30 | 36.15] loss=1.36 avg=1.02\n",
            "[40 | 45.00] loss=0.95 avg=1.00\n",
            "[50 | 53.87] loss=1.16 avg=1.03\n",
            "[60 | 62.73] loss=1.50 avg=1.11\n",
            "[70 | 71.57] loss=1.06 avg=1.10\n",
            "[80 | 80.42] loss=1.49 avg=1.15\n",
            "[90 | 89.25] loss=1.25 avg=1.16\n",
            "[100 | 98.12] loss=1.23 avg=1.17\n",
            "[110 | 106.99] loss=0.62 avg=1.12\n",
            "[120 | 115.85] loss=1.30 avg=1.13\n",
            "[130 | 124.68] loss=1.72 avg=1.18\n",
            "[140 | 133.52] loss=0.83 avg=1.16\n",
            "[150 | 142.38] loss=0.87 avg=1.13\n",
            "[160 | 151.21] loss=1.19 avg=1.14\n",
            "[170 | 160.04] loss=0.82 avg=1.12\n",
            "[180 | 168.89] loss=0.99 avg=1.11\n",
            "[190 | 177.76] loss=1.13 avg=1.11\n",
            "[200 | 186.64] loss=1.32 avg=1.12\n",
            "[210 | 195.50] loss=1.33 avg=1.13\n",
            "[220 | 204.35] loss=0.79 avg=1.12\n",
            "[230 | 213.22] loss=0.75 avg=1.10\n",
            "[240 | 222.08] loss=1.22 avg=1.10\n",
            "[250 | 230.93] loss=0.60 avg=1.08\n",
            "[260 | 239.77] loss=0.96 avg=1.08\n",
            "[270 | 248.61] loss=0.97 avg=1.07\n",
            "[280 | 257.46] loss=1.10 avg=1.07\n",
            "[290 | 266.30] loss=1.22 avg=1.08\n",
            "[300 | 275.18] loss=0.39 avg=1.05\n",
            "[310 | 284.05] loss=1.79 avg=1.08\n",
            "[320 | 292.90] loss=1.19 avg=1.08\n",
            "[330 | 301.77] loss=1.34 avg=1.09\n",
            "[340 | 310.64] loss=0.92 avg=1.09\n",
            "[350 | 319.53] loss=0.46 avg=1.07\n",
            "[360 | 328.37] loss=1.18 avg=1.07\n",
            "[370 | 337.22] loss=1.27 avg=1.08\n",
            "[380 | 346.08] loss=0.88 avg=1.07\n",
            "[390 | 354.94] loss=0.82 avg=1.06\n",
            "[400 | 363.77] loss=0.75 avg=1.05\n",
            "[410 | 372.62] loss=0.74 avg=1.04\n",
            "[420 | 381.47] loss=0.50 avg=1.03\n",
            "[430 | 390.32] loss=1.19 avg=1.03\n",
            "[440 | 399.17] loss=1.16 avg=1.04\n",
            "[450 | 408.02] loss=1.19 avg=1.04\n",
            "[460 | 416.87] loss=0.61 avg=1.03\n",
            "[470 | 425.71] loss=0.63 avg=1.02\n",
            "[480 | 434.56] loss=0.82 avg=1.01\n",
            "[490 | 443.41] loss=1.20 avg=1.02\n",
            "[500 | 452.24] loss=0.67 avg=1.01\n",
            "Saving checkpoint/run1/model-500\n",
            "======== SAMPLE 1 ========\n",
            ">start over<|endoftext|>\n",
            "<|startoftext|>start over<|endoftext|>\n",
            "<|startoftext|>steal that sadness jk<|endoftext|>\n",
            "<|startoftext|>steal this sadness<|endoftext|>\n",
            "<|startoftext|>steal this sadness<|endoftext|>\n",
            "<|startoftext|>steal this sadness<|endoftext|>\n",
            "<|startoftext|>steal your nightmares<|endoftext|>\n",
            "<|startoftext|>steal your boyfriends clothes<|endoftext|>\n",
            "<|startoftext|>stop being a piece of shit<|endoftext|>\n",
            "<|startoftext|>starts at $4.99/mo<|endoftext|>\n",
            "<|startoftext|>starts at $5.99/mo<|endoftext|>\n",
            "<|startoftext|>starts this way<|endoftext|>\n",
            "<|startoftext|>starts with a 'hi' email, then we pretend it is you<|endoftext|>\n",
            "<|startoftext|>starts with a 'hi' email, then we pretend it is you<|endoftext|>\n",
            "<|startoftext|>starts with 'hi' email…then feels bad about tweeting<|endoftext|>\n",
            "<|startoftext|>starts with taco bell<|endoftext|>\n",
            "<|startoftext|>streams heartthrob videos from a van<|endoftext|>\n",
            "<|startoftext|>strip a man's balls, tony the tiger, jk<|endoftext|>\n",
            "<|startoftext|>strip a man's balls, tony the tiger, jk<|endoftext|>\n",
            "<|startoftext|>stripped down and dressed up in a baggy t-shirt and a long john c shirt and fedora<|endoftext|>\n",
            "<|startoftext|>stuck with an itch to be a dick all day<|endoftext|>\n",
            "<|startoftext|>submerge yourself in me<|endoftext|>\n",
            "<|startoftext|>submerge yourself in me<|endoftext|>\n",
            "<|startoftext|>surrounded by cats but they're not mine<|endoftext|>\n",
            "<|startoftext|>surrounded by girls and they're all hiding<|endoftext|>\n",
            "<|startoftext|>surrounded by emptiness<|endoftext|>\n",
            "<|startoftext|>surrounded by nothing<|endoftext|>\n",
            "<|startoftext|>surrounded again by people who don’t understand me and don't love me but can't love<|endoftext|>\n",
            "<|startoftext|>surround yourself with pizza in a bowl<|endoftext|>\n",
            "<|startoftext|>support an artist! don't get artisty<|endoftext|>\n",
            "<|startoftext|>support my career by not buying my art<|endoftext|>\n",
            "<|startoftext|>support my career by not buying my shit<|endoftext|>\n",
            "<|startoftext|>support the ppl of the world with your beautiful eyes, please kill me with them<|endoftext|>\n",
            "<|startoftext|>support the sad people with your sad dollars<|endoftext|>\n",
            "<|startoftext|>suggest a book review<|endoftext|>\n",
            "<|startoftext|>suggestion for a future listener<|endoftext|>\n",
            "<|startoftext|>suggestions:\n",
            "-be happy<|endoftext|>\n",
            "<|startoftext|>suggestions:\n",
            "-get more done<|endoftext|>\n",
            "<|startoftext|>suggestions:\n",
            "-get a better attitude<|endoftext|>\n",
            "<|startoftext|>suggestions:\n",
            "-get away from me again<|endoftext|>\n",
            "<|startoftext|>suggestions: don't text me back<|endoftext|>\n",
            "<|startoftext|>suggestions: don't text me back<|endoftext|>\n",
            "<|startoftext|>suggestions: don't remember asking to be born<|endoftext|>\n",
            "<|startoftext|>suggestions: i don't remember saying anything about you<|endof\n",
            "\n",
            "[510 | 489.41] loss=0.74 avg=1.00\n",
            "[520 | 498.28] loss=1.21 avg=1.01\n",
            "[530 | 507.12] loss=0.69 avg=1.00\n",
            "[540 | 516.02] loss=1.15 avg=1.00\n",
            "[550 | 524.90] loss=0.77 avg=1.00\n",
            "[560 | 533.73] loss=1.02 avg=1.00\n",
            "[570 | 542.59] loss=0.60 avg=0.99\n",
            "[580 | 551.45] loss=0.38 avg=0.98\n",
            "[590 | 560.30] loss=1.33 avg=0.98\n",
            "[600 | 569.15] loss=1.16 avg=0.99\n",
            "[610 | 577.99] loss=0.65 avg=0.98\n",
            "[620 | 586.84] loss=0.76 avg=0.98\n",
            "[630 | 595.68] loss=0.73 avg=0.97\n",
            "[640 | 604.53] loss=0.43 avg=0.96\n",
            "[650 | 613.39] loss=0.95 avg=0.96\n",
            "[660 | 622.24] loss=0.54 avg=0.95\n",
            "[670 | 631.11] loss=0.87 avg=0.95\n",
            "[680 | 639.97] loss=0.86 avg=0.95\n",
            "[690 | 648.81] loss=0.94 avg=0.95\n",
            "[700 | 657.67] loss=1.44 avg=0.96\n",
            "[710 | 666.51] loss=0.28 avg=0.94\n",
            "[720 | 675.36] loss=0.69 avg=0.94\n",
            "[730 | 684.22] loss=0.64 avg=0.93\n",
            "[740 | 693.10] loss=0.87 avg=0.93\n",
            "[750 | 701.96] loss=0.43 avg=0.92\n",
            "[760 | 710.83] loss=0.66 avg=0.92\n",
            "[770 | 719.68] loss=0.65 avg=0.91\n",
            "[780 | 728.54] loss=0.67 avg=0.91\n",
            "[790 | 737.40] loss=0.58 avg=0.90\n",
            "[800 | 746.27] loss=0.54 avg=0.89\n",
            "[810 | 755.12] loss=0.34 avg=0.88\n",
            "[820 | 763.96] loss=0.01 avg=0.87\n",
            "[830 | 772.80] loss=0.38 avg=0.86\n",
            "[840 | 781.65] loss=0.84 avg=0.86\n",
            "[850 | 790.51] loss=0.31 avg=0.85\n",
            "[860 | 799.36] loss=0.53 avg=0.85\n",
            "[870 | 808.20] loss=0.79 avg=0.84\n",
            "[880 | 817.04] loss=0.23 avg=0.83\n",
            "[890 | 825.90] loss=0.04 avg=0.82\n",
            "[900 | 834.74] loss=0.40 avg=0.81\n",
            "[910 | 843.58] loss=0.15 avg=0.80\n",
            "[920 | 852.42] loss=0.58 avg=0.80\n",
            "[930 | 861.26] loss=0.23 avg=0.79\n",
            "[940 | 870.10] loss=1.30 avg=0.80\n",
            "[950 | 878.95] loss=0.86 avg=0.80\n",
            "[960 | 887.77] loss=0.35 avg=0.79\n",
            "[970 | 896.61] loss=0.38 avg=0.78\n",
            "[980 | 905.45] loss=0.25 avg=0.78\n",
            "[990 | 914.32] loss=1.24 avg=0.78\n",
            "[1000 | 923.17] loss=0.41 avg=0.78\n",
            "Saving checkpoint/run1/model-1000\n",
            "WARNING:tensorflow:From /usr/local/lib/python3.6/dist-packages/tensorflow_core/python/training/saver.py:963: remove_checkpoint (from tensorflow.python.training.checkpoint_management) is deprecated and will be removed in a future version.\n",
            "Instructions for updating:\n",
            "Use standard file APIs to delete files with this prefix.\n",
            "======== SAMPLE 1 ========\n",
            "text|>\n",
            "<|startoftext|>just pretend you are chill<|endoftext|>\n",
            "<|startoftext|>just pretend you are good at feeling sad<|endoftext|>\n",
            "<|startoftext|>just pretend you will be ok<|endoftext|>\n",
            "<|startoftext|>just pretend?<|endoftext|>\n",
            "<|startoftext|>just pretend?<|endoftext|>\n",
            "<|startoftext|>just pretend?<|endoftext|>\n",
            "<|startoftext|>just pretend?<|endoftext|>\n",
            "<|startoftext|>just pretend?<|endoftext|>\n",
            "<|startoftext|>just pretend you are in the right relationship with your boyfriend<|endoftext|>\n",
            "<|startoftext|>just pretend you are still alive<|endoftext|>\n",
            "<|startoftext|>just pretend?<|endoftext|>\n",
            "<|startoftext|>just pretend you are still alive<|endoftext|>\n",
            "<|startoftext|>just pretend you suck<|endoftext|>\n",
            "<|startoftext|>just pretend you are still alive<|endoftext|>\n",
            "<|startoftext|>just pretend you are the hottest teen model<|endoftext|>\n",
            "<|startoftext|>just pretend you are the hottest teen model<|endoftext|>\n",
            "<|startoftext|>just pretend you are thinking about my ass<|endoftext|>\n",
            "<|startoftext|>just pretend you're hot<|endoftext|>\n",
            "<|startoftext|>just pretend you're my best friend<|endoftext|>\n",
            "<|startoftext|>just pretend you're ok with your girlfriend not texting<|endoftext|>\n",
            "<|startoftext|>just pretend you're pretty<|endoftext|>\n",
            "<|startoftext|>just pretend you're real<|endoftext|>\n",
            "<|startoftext|>just pretend that all the girls at gmail are genuinely hot<|endoftext|>\n",
            "<|startoftext|>just pretend that people like the taste of despair<|endoftext|>\n",
            "<|startoftext|>just pretend you're the one who needs me, not the other way around<|endoftext|>\n",
            "<|startoftext|>just pretend you're the one who needs me not texting<|endoftext|>\n",
            "<|startoftext|>just pretend you're the one who needs me not texting<|endoftext|>\n",
            "<|startoftext|>just pretend you're the one who needs me not texting<|endoftext|>\n",
            "<|startoftext|>just pretend you haven't been crying for a while<|endoftext|>\n",
            "<|startoftext|>just thought how depressing every single thing about being alive is and just thought hey maybe it's not that bad<|endoftext|>\n",
            "<|startoftext|>just thought of a great way to tell someone i'm depressed: by being depressed myself<|endoftext|>\n",
            "<|startoftext|>just thought of a great way to tell someone i'm depressed: by not being in a relationship<|endoftext|>\n",
            "<|startoftext|>just thought about all the guys who said i'm beautiful<|endoftext|>\n",
            "<|startoftext|>just thought you were cooler and i'm like a bad idea<|endoftext|>\n",
            "<|startoftext|>just thought of a great new way to tell someone i'm depressed: by feeling less depressed<|endoftext|>\n",
            "<|startoftext|>just thought I wrote this in jpg but it's color<|endoftext|>\n",
            "<|startoftext|>just thought I’m dying...and it’s fine\n",
            "\n",
            "ok never mind<|endoftext|>\n",
            "<|startoftext|>just wanted to say u guys are getting better  thanks! <3<|endoftext|>\n",
            "<|startoftext|>just thought of someone i used to trust who now has no faith in me and who is obviously desperate<|endoftext|>\n",
            "<|startoftext|>just thought that maybe depression would work itself out and it wouldn’t but no<|endoftext|>\n",
            "<|startoftext|>just thought that maybe i’m doing the right thing but no<|endoftext|>\n",
            "<|startoftext|\n",
            "\n",
            "[1010 | 958.90] loss=0.13 avg=0.77\n",
            "[1020 | 967.74] loss=0.41 avg=0.76\n",
            "[1030 | 976.62] loss=0.37 avg=0.76\n",
            "[1040 | 985.46] loss=1.37 avg=0.77\n",
            "[1050 | 994.32] loss=0.39 avg=0.76\n",
            "[1060 | 1003.18] loss=0.38 avg=0.75\n",
            "[1070 | 1012.03] loss=0.30 avg=0.75\n",
            "[1080 | 1020.88] loss=0.33 avg=0.74\n",
            "[1090 | 1029.71] loss=0.76 avg=0.74\n",
            "[1100 | 1038.57] loss=0.67 avg=0.74\n",
            "[1110 | 1047.41] loss=0.58 avg=0.74\n",
            "[1120 | 1056.24] loss=0.60 avg=0.74\n",
            "[1130 | 1065.08] loss=0.89 avg=0.74\n",
            "[1140 | 1073.91] loss=0.27 avg=0.73\n",
            "[1150 | 1082.79] loss=0.64 avg=0.73\n",
            "[1160 | 1091.66] loss=0.65 avg=0.73\n",
            "[1170 | 1100.50] loss=0.60 avg=0.73\n",
            "[1180 | 1109.34] loss=0.24 avg=0.72\n",
            "[1190 | 1118.19] loss=0.18 avg=0.71\n",
            "[1200 | 1127.04] loss=0.65 avg=0.71\n",
            "[1210 | 1135.88] loss=0.37 avg=0.71\n",
            "[1220 | 1144.74] loss=2.20 avg=0.73\n",
            "[1230 | 1153.58] loss=1.01 avg=0.73\n",
            "[1240 | 1162.44] loss=0.32 avg=0.73\n",
            "[1250 | 1171.30] loss=0.69 avg=0.72\n",
            "[1260 | 1180.14] loss=0.62 avg=0.72\n",
            "[1270 | 1188.99] loss=0.66 avg=0.72\n",
            "[1280 | 1197.84] loss=0.26 avg=0.72\n",
            "[1290 | 1206.68] loss=0.73 avg=0.72\n",
            "[1300 | 1215.52] loss=0.19 avg=0.71\n",
            "[1310 | 1224.34] loss=0.33 avg=0.70\n",
            "[1320 | 1233.19] loss=0.59 avg=0.70\n",
            "[1330 | 1242.02] loss=0.71 avg=0.70\n",
            "[1340 | 1250.87] loss=0.31 avg=0.70\n",
            "[1350 | 1259.71] loss=0.65 avg=0.70\n",
            "[1360 | 1268.53] loss=0.58 avg=0.69\n",
            "[1370 | 1277.39] loss=0.76 avg=0.70\n",
            "[1380 | 1286.22] loss=0.28 avg=0.69\n",
            "[1390 | 1295.09] loss=0.15 avg=0.68\n",
            "[1400 | 1303.92] loss=0.67 avg=0.68\n",
            "[1410 | 1312.75] loss=0.76 avg=0.68\n",
            "[1420 | 1321.58] loss=0.88 avg=0.69\n",
            "[1430 | 1330.44] loss=0.31 avg=0.68\n",
            "[1440 | 1339.30] loss=0.50 avg=0.68\n",
            "[1450 | 1348.13] loss=0.69 avg=0.68\n",
            "[1460 | 1356.98] loss=0.23 avg=0.67\n",
            "[1470 | 1365.80] loss=0.20 avg=0.67\n",
            "[1480 | 1374.63] loss=0.41 avg=0.66\n",
            "[1490 | 1383.47] loss=1.13 avg=0.67\n",
            "[1500 | 1392.33] loss=0.39 avg=0.67\n",
            "Saving checkpoint/run1/model-1500\n",
            "======== SAMPLE 1 ========\n",
            "|my sad soul can't stop eating you<|endoftext|>\n",
            "<|startoftext|>my sad taste on your sad tongue<|endoftext|>\n",
            "<|startoftext|>my sad teeth on your sad neck<|endoftext|>\n",
            "<|startoftext|>my sad tits in your sad teeth<|endoftext|>\n",
            "<|startoftext|>my sad teeth on your dumb face<|endoftext|>\n",
            "<|startoftext|>my sad tits on your sad teeth<|endoftext|>\n",
            "<|startoftext|>my sad tits on your sad teeth<|endoftext|>\n",
            "<|startoftext|>my sad tits on your sad v<|endoftext|>\n",
            "<|startoftext|>my sad tits on your sad v<|endoftext|>\n",
            "<|startoftext|>my sad tits tell you everything is sad<|endoftext|>\n",
            "<|startoftext|>my sad tits tell you everything's sad<|endoftext|>\n",
            "<|startoftext|>my sad tits tell you everything's sad<|endoftext|>\n",
            "<|startoftext|>my sad tits tell you everything's sad<|endoftext|>\n",
            "<|startoftext|>my sad tits tell you everything's sad<|endoftext|>\n",
            "<|startoftext|>my sad tits, sad nipples and sad lips give me a paralyzing fear of public places<|endoftext|>\n",
            "<|startoftext|>my sad tits, sad nipples and sad lips give me a paralyzing fear of public places<|endoftext|>\n",
            "<|startoftext|>my sad tits, sad nipples and sad lips take me five years to have an orgasm<|endoftext|>\n",
            "<|startoftext|>my sad tits, sad nipples and sad lips take me five years to have an orgasm<|endoftext|>\n",
            "<|startoftext|>my sad tits, sad nipples and sad lips take me three years to have an orgasm<|endoftext|>\n",
            "<|startoftext|>my sad tits, sad nipples and sad lips take me three years to have an orgasm<|endoftext|>\n",
            "<|startoftext|>my sad tits, sad nipples and sad lips take me one year to have an orgasm<|endoftext|>\n",
            "<|startoftext|>my sad tits, sad nipples and sad lips take me one year to have an orgasm<|endoftext|>\n",
            "<|startoftext|>my sad boobs on your sad face<|endoftext|>\n",
            "<|startoftext|>my sad boobs on your sad lips<|endoftext|>\n",
            "<|startoftext|>my sad boobs on your sad flesh<|endoftext|>\n",
            "<|startoftext|>my sad tits on your sad nipples<|endoftext|>\n",
            "<|startoftext|>my sad tits on your sad v<|endoftext|>\n",
            "<|startoftext|>my sad tits on your sad v<|endoftext|>\n",
            "<|startoftext|>my sad tits on your sad v<|endoftext|>\n",
            "<|startoftext|>my sad tits on your sad v<|endoftext|>\n",
            "<|startoftext|>my sad tits on your sad v<|endoftext|>\n",
            "<|startoftext|>my sad b/c you're depressed gives me time to mope around and think about you<|endoftext|>\n",
            "<|startoftext|>my sad body in the sad ground under sad grass underneath my sad dress<|endoftext|>\n",
            "<|startoftext|>my sad brain in a sad head<|endoftext|>\n",
            "<|startoftext|>my sad brain in a sad head<|endoftext|>\n",
            "<|startoftext|>my sad brain in a sad skull<|endoftext|>\n",
            "<|startoftext|>my sad brain in a sad skull<|endoftext|>\n",
            "<|startoftext|>my sad brain in a sad skull<|endoftext|>\n",
            "<|startoftext|>my sad brain in my sad skull<|endoftext|>\n",
            "<|startoftext|>my sad brain in so much space<|endoftext|>\n",
            "<|startoftext|>my sad breath on your sad neck<|endoftext|>\n",
            "<|startoftext|>my sad face on your sad lips<|endoftext|>\n",
            "\n",
            "[1510 | 1425.52] loss=0.29 avg=0.66\n",
            "[1520 | 1434.37] loss=0.48 avg=0.66\n",
            "[1530 | 1443.21] loss=1.49 avg=0.67\n",
            "[1540 | 1452.09] loss=0.59 avg=0.67\n",
            "[1550 | 1460.93] loss=0.40 avg=0.67\n",
            "[1560 | 1469.76] loss=0.76 avg=0.67\n",
            "[1570 | 1478.62] loss=0.65 avg=0.67\n",
            "[1580 | 1487.49] loss=0.69 avg=0.67\n",
            "[1590 | 1496.34] loss=0.25 avg=0.66\n",
            "[1600 | 1505.19] loss=0.75 avg=0.66\n",
            "[1610 | 1514.03] loss=0.47 avg=0.66\n",
            "[1620 | 1522.87] loss=0.39 avg=0.66\n",
            "[1630 | 1531.73] loss=0.34 avg=0.65\n",
            "[1640 | 1540.56] loss=0.38 avg=0.65\n",
            "[1650 | 1549.41] loss=0.62 avg=0.65\n",
            "[1660 | 1558.26] loss=0.30 avg=0.65\n",
            "[1670 | 1567.11] loss=0.52 avg=0.64\n",
            "[1680 | 1575.96] loss=0.56 avg=0.64\n",
            "[1690 | 1584.81] loss=0.35 avg=0.64\n",
            "[1700 | 1593.68] loss=0.27 avg=0.63\n",
            "[1710 | 1602.53] loss=0.14 avg=0.63\n",
            "[1720 | 1611.40] loss=0.23 avg=0.62\n",
            "[1730 | 1620.23] loss=0.76 avg=0.63\n",
            "[1740 | 1629.09] loss=0.22 avg=0.62\n",
            "[1750 | 1637.94] loss=0.33 avg=0.62\n",
            "[1760 | 1646.82] loss=0.34 avg=0.61\n",
            "[1770 | 1655.68] loss=0.22 avg=0.61\n",
            "[1780 | 1664.52] loss=0.25 avg=0.60\n",
            "[1790 | 1673.37] loss=0.15 avg=0.60\n",
            "[1800 | 1682.21] loss=0.17 avg=0.59\n",
            "[1810 | 1691.06] loss=0.14 avg=0.59\n",
            "[1820 | 1699.93] loss=0.07 avg=0.58\n",
            "[1830 | 1708.77] loss=0.26 avg=0.58\n",
            "[1840 | 1717.64] loss=0.50 avg=0.58\n",
            "[1850 | 1726.50] loss=0.28 avg=0.57\n",
            "[1860 | 1735.33] loss=0.18 avg=0.57\n",
            "[1870 | 1744.17] loss=0.08 avg=0.56\n",
            "[1880 | 1753.04] loss=0.10 avg=0.56\n",
            "[1890 | 1761.92] loss=0.33 avg=0.56\n",
            "[1900 | 1770.75] loss=0.14 avg=0.55\n",
            "[1910 | 1779.61] loss=0.24 avg=0.55\n",
            "[1920 | 1788.45] loss=0.78 avg=0.55\n",
            "[1930 | 1797.30] loss=0.09 avg=0.54\n",
            "[1940 | 1806.14] loss=0.19 avg=0.54\n",
            "[1950 | 1815.01] loss=0.14 avg=0.54\n",
            "[1960 | 1823.85] loss=0.34 avg=0.53\n",
            "[1970 | 1832.71] loss=0.18 avg=0.53\n",
            "[1980 | 1841.56] loss=0.14 avg=0.52\n",
            "[1990 | 1850.41] loss=0.08 avg=0.52\n",
            "[2000 | 1859.28] loss=0.38 avg=0.52\n",
            "Saving checkpoint/run1/model-2000\n"
          ],
          "name": "stdout"
        }
      ]
    },
    {
      "cell_type": "markdown",
      "metadata": {
        "id": "IXSuTNERaw6K",
        "colab_type": "text"
      },
      "source": [
        "After the model is trained, you can copy the checkpoint folder to your own Google Drive.\n",
        "\n",
        "If you want to download it to your personal computer, it's strongly recommended you copy it there first, then download from Google Drive. The checkpoint folder is copied as a `.rar` compressed file; you can download it and uncompress it locally."
      ]
    },
    {
      "cell_type": "code",
      "metadata": {
        "id": "VHdTL8NDbAh3",
        "colab_type": "code",
        "outputId": "38b72da2-adf9-4ad1-a76b-69fbbf1ad41a",
        "colab": {
          "base_uri": "https://localhost:8080/",
          "height": 303
        }
      },
      "source": [
        "gpt2.copy_checkpoint_to_gdrive(run_name='run1')"
      ],
      "execution_count": 0,
      "outputs": [
        {
          "output_type": "error",
          "ename": "KeyboardInterrupt",
          "evalue": "ignored",
          "traceback": [
            "\u001b[0;31m---------------------------------------------------------------------------\u001b[0m",
            "\u001b[0;31mKeyboardInterrupt\u001b[0m                         Traceback (most recent call last)",
            "\u001b[0;32m<ipython-input-3-c109d49b8a61>\u001b[0m in \u001b[0;36m<module>\u001b[0;34m()\u001b[0m\n\u001b[0;32m----> 1\u001b[0;31m \u001b[0mgpt2\u001b[0m\u001b[0;34m.\u001b[0m\u001b[0mcopy_checkpoint_to_gdrive\u001b[0m\u001b[0;34m(\u001b[0m\u001b[0mrun_name\u001b[0m\u001b[0;34m=\u001b[0m\u001b[0;34m'run1'\u001b[0m\u001b[0;34m)\u001b[0m\u001b[0;34m\u001b[0m\u001b[0;34m\u001b[0m\u001b[0m\n\u001b[0m",
            "\u001b[0;32m/usr/local/lib/python3.6/dist-packages/gpt_2_simple/gpt_2.py\u001b[0m in \u001b[0;36mcopy_checkpoint_to_gdrive\u001b[0;34m(run_name, copy_folder)\u001b[0m\n\u001b[1;32m    578\u001b[0m         \u001b[0;31m# Reference: https://stackoverflow.com/a/17081026\u001b[0m\u001b[0;34m\u001b[0m\u001b[0;34m\u001b[0m\u001b[0;34m\u001b[0m\u001b[0m\n\u001b[1;32m    579\u001b[0m         \u001b[0;32mwith\u001b[0m \u001b[0mtarfile\u001b[0m\u001b[0;34m.\u001b[0m\u001b[0mopen\u001b[0m\u001b[0;34m(\u001b[0m\u001b[0mfile_path\u001b[0m\u001b[0;34m,\u001b[0m \u001b[0;34m'w'\u001b[0m\u001b[0;34m)\u001b[0m \u001b[0;32mas\u001b[0m \u001b[0mtar\u001b[0m\u001b[0;34m:\u001b[0m\u001b[0;34m\u001b[0m\u001b[0;34m\u001b[0m\u001b[0m\n\u001b[0;32m--> 580\u001b[0;31m             \u001b[0mtar\u001b[0m\u001b[0;34m.\u001b[0m\u001b[0madd\u001b[0m\u001b[0;34m(\u001b[0m\u001b[0mcheckpoint_folder\u001b[0m\u001b[0;34m)\u001b[0m\u001b[0;34m\u001b[0m\u001b[0;34m\u001b[0m\u001b[0m\n\u001b[0m\u001b[1;32m    581\u001b[0m \u001b[0;34m\u001b[0m\u001b[0m\n\u001b[1;32m    582\u001b[0m         \u001b[0mshutil\u001b[0m\u001b[0;34m.\u001b[0m\u001b[0mcopyfile\u001b[0m\u001b[0;34m(\u001b[0m\u001b[0mfile_path\u001b[0m\u001b[0;34m,\u001b[0m \u001b[0;34m\"/content/drive/My Drive/\"\u001b[0m \u001b[0;34m+\u001b[0m \u001b[0mfile_path\u001b[0m\u001b[0;34m)\u001b[0m\u001b[0;34m\u001b[0m\u001b[0;34m\u001b[0m\u001b[0m\n",
            "\u001b[0;32m/usr/lib/python3.6/tarfile.py\u001b[0m in \u001b[0;36madd\u001b[0;34m(self, name, arcname, recursive, exclude, filter)\u001b[0m\n\u001b[1;32m   1957\u001b[0m                 \u001b[0;32mfor\u001b[0m \u001b[0mf\u001b[0m \u001b[0;32min\u001b[0m \u001b[0mos\u001b[0m\u001b[0;34m.\u001b[0m\u001b[0mlistdir\u001b[0m\u001b[0;34m(\u001b[0m\u001b[0mname\u001b[0m\u001b[0;34m)\u001b[0m\u001b[0;34m:\u001b[0m\u001b[0;34m\u001b[0m\u001b[0;34m\u001b[0m\u001b[0m\n\u001b[1;32m   1958\u001b[0m                     self.add(os.path.join(name, f), os.path.join(arcname, f),\n\u001b[0;32m-> 1959\u001b[0;31m                             recursive, exclude, filter=filter)\n\u001b[0m\u001b[1;32m   1960\u001b[0m \u001b[0;34m\u001b[0m\u001b[0m\n\u001b[1;32m   1961\u001b[0m         \u001b[0;32melse\u001b[0m\u001b[0;34m:\u001b[0m\u001b[0;34m\u001b[0m\u001b[0;34m\u001b[0m\u001b[0m\n",
            "\u001b[0;32m/usr/lib/python3.6/tarfile.py\u001b[0m in \u001b[0;36madd\u001b[0;34m(self, name, arcname, recursive, exclude, filter)\u001b[0m\n\u001b[1;32m   1950\u001b[0m         \u001b[0;32mif\u001b[0m \u001b[0mtarinfo\u001b[0m\u001b[0;34m.\u001b[0m\u001b[0misreg\u001b[0m\u001b[0;34m(\u001b[0m\u001b[0;34m)\u001b[0m\u001b[0;34m:\u001b[0m\u001b[0;34m\u001b[0m\u001b[0;34m\u001b[0m\u001b[0m\n\u001b[1;32m   1951\u001b[0m             \u001b[0;32mwith\u001b[0m \u001b[0mbltn_open\u001b[0m\u001b[0;34m(\u001b[0m\u001b[0mname\u001b[0m\u001b[0;34m,\u001b[0m \u001b[0;34m\"rb\"\u001b[0m\u001b[0;34m)\u001b[0m \u001b[0;32mas\u001b[0m \u001b[0mf\u001b[0m\u001b[0;34m:\u001b[0m\u001b[0;34m\u001b[0m\u001b[0;34m\u001b[0m\u001b[0m\n\u001b[0;32m-> 1952\u001b[0;31m                 \u001b[0mself\u001b[0m\u001b[0;34m.\u001b[0m\u001b[0maddfile\u001b[0m\u001b[0;34m(\u001b[0m\u001b[0mtarinfo\u001b[0m\u001b[0;34m,\u001b[0m \u001b[0mf\u001b[0m\u001b[0;34m)\u001b[0m\u001b[0;34m\u001b[0m\u001b[0;34m\u001b[0m\u001b[0m\n\u001b[0m\u001b[1;32m   1953\u001b[0m \u001b[0;34m\u001b[0m\u001b[0m\n\u001b[1;32m   1954\u001b[0m         \u001b[0;32melif\u001b[0m \u001b[0mtarinfo\u001b[0m\u001b[0;34m.\u001b[0m\u001b[0misdir\u001b[0m\u001b[0;34m(\u001b[0m\u001b[0;34m)\u001b[0m\u001b[0;34m:\u001b[0m\u001b[0;34m\u001b[0m\u001b[0;34m\u001b[0m\u001b[0m\n",
            "\u001b[0;32m/usr/lib/python3.6/tarfile.py\u001b[0m in \u001b[0;36maddfile\u001b[0;34m(self, tarinfo, fileobj)\u001b[0m\n\u001b[1;32m   1978\u001b[0m         \u001b[0;31m# If there's data to follow, append it.\u001b[0m\u001b[0;34m\u001b[0m\u001b[0;34m\u001b[0m\u001b[0;34m\u001b[0m\u001b[0m\n\u001b[1;32m   1979\u001b[0m         \u001b[0;32mif\u001b[0m \u001b[0mfileobj\u001b[0m \u001b[0;32mis\u001b[0m \u001b[0;32mnot\u001b[0m \u001b[0;32mNone\u001b[0m\u001b[0;34m:\u001b[0m\u001b[0;34m\u001b[0m\u001b[0;34m\u001b[0m\u001b[0m\n\u001b[0;32m-> 1980\u001b[0;31m             \u001b[0mcopyfileobj\u001b[0m\u001b[0;34m(\u001b[0m\u001b[0mfileobj\u001b[0m\u001b[0;34m,\u001b[0m \u001b[0mself\u001b[0m\u001b[0;34m.\u001b[0m\u001b[0mfileobj\u001b[0m\u001b[0;34m,\u001b[0m \u001b[0mtarinfo\u001b[0m\u001b[0;34m.\u001b[0m\u001b[0msize\u001b[0m\u001b[0;34m,\u001b[0m \u001b[0mbufsize\u001b[0m\u001b[0;34m=\u001b[0m\u001b[0mbufsize\u001b[0m\u001b[0;34m)\u001b[0m\u001b[0;34m\u001b[0m\u001b[0;34m\u001b[0m\u001b[0m\n\u001b[0m\u001b[1;32m   1981\u001b[0m             \u001b[0mblocks\u001b[0m\u001b[0;34m,\u001b[0m \u001b[0mremainder\u001b[0m \u001b[0;34m=\u001b[0m \u001b[0mdivmod\u001b[0m\u001b[0;34m(\u001b[0m\u001b[0mtarinfo\u001b[0m\u001b[0;34m.\u001b[0m\u001b[0msize\u001b[0m\u001b[0;34m,\u001b[0m \u001b[0mBLOCKSIZE\u001b[0m\u001b[0;34m)\u001b[0m\u001b[0;34m\u001b[0m\u001b[0;34m\u001b[0m\u001b[0m\n\u001b[1;32m   1982\u001b[0m             \u001b[0;32mif\u001b[0m \u001b[0mremainder\u001b[0m \u001b[0;34m>\u001b[0m \u001b[0;36m0\u001b[0m\u001b[0;34m:\u001b[0m\u001b[0;34m\u001b[0m\u001b[0;34m\u001b[0m\u001b[0m\n",
            "\u001b[0;32m/usr/lib/python3.6/tarfile.py\u001b[0m in \u001b[0;36mcopyfileobj\u001b[0;34m(src, dst, length, exception, bufsize)\u001b[0m\n\u001b[1;32m    247\u001b[0m     \u001b[0mblocks\u001b[0m\u001b[0;34m,\u001b[0m \u001b[0mremainder\u001b[0m \u001b[0;34m=\u001b[0m \u001b[0mdivmod\u001b[0m\u001b[0;34m(\u001b[0m\u001b[0mlength\u001b[0m\u001b[0;34m,\u001b[0m \u001b[0mbufsize\u001b[0m\u001b[0;34m)\u001b[0m\u001b[0;34m\u001b[0m\u001b[0;34m\u001b[0m\u001b[0m\n\u001b[1;32m    248\u001b[0m     \u001b[0;32mfor\u001b[0m \u001b[0mb\u001b[0m \u001b[0;32min\u001b[0m \u001b[0mrange\u001b[0m\u001b[0;34m(\u001b[0m\u001b[0mblocks\u001b[0m\u001b[0;34m)\u001b[0m\u001b[0;34m:\u001b[0m\u001b[0;34m\u001b[0m\u001b[0;34m\u001b[0m\u001b[0m\n\u001b[0;32m--> 249\u001b[0;31m         \u001b[0mbuf\u001b[0m \u001b[0;34m=\u001b[0m \u001b[0msrc\u001b[0m\u001b[0;34m.\u001b[0m\u001b[0mread\u001b[0m\u001b[0;34m(\u001b[0m\u001b[0mbufsize\u001b[0m\u001b[0;34m)\u001b[0m\u001b[0;34m\u001b[0m\u001b[0;34m\u001b[0m\u001b[0m\n\u001b[0m\u001b[1;32m    250\u001b[0m         \u001b[0;32mif\u001b[0m \u001b[0mlen\u001b[0m\u001b[0;34m(\u001b[0m\u001b[0mbuf\u001b[0m\u001b[0;34m)\u001b[0m \u001b[0;34m<\u001b[0m \u001b[0mbufsize\u001b[0m\u001b[0;34m:\u001b[0m\u001b[0;34m\u001b[0m\u001b[0;34m\u001b[0m\u001b[0m\n\u001b[1;32m    251\u001b[0m             \u001b[0;32mraise\u001b[0m \u001b[0mexception\u001b[0m\u001b[0;34m(\u001b[0m\u001b[0;34m\"unexpected end of data\"\u001b[0m\u001b[0;34m)\u001b[0m\u001b[0;34m\u001b[0m\u001b[0;34m\u001b[0m\u001b[0m\n",
            "\u001b[0;31mKeyboardInterrupt\u001b[0m: "
          ]
        }
      ]
    },
    {
      "cell_type": "markdown",
      "metadata": {
        "id": "qQJgV_b4bmzd",
        "colab_type": "text"
      },
      "source": [
        "You're done! Feel free to go to the **Generate Text From The Trained Model** section to generate text based on your retrained model."
      ]
    },
    {
      "cell_type": "markdown",
      "metadata": {
        "id": "pel-uBULXO2L",
        "colab_type": "text"
      },
      "source": [
        "## Load a Trained Model Checkpoint\n",
        "\n",
        "Running the next cell will copy the `.rar` checkpoint file from your Google Drive into the Colaboratory VM."
      ]
    },
    {
      "cell_type": "code",
      "metadata": {
        "id": "DCcx5u7sbPTD",
        "colab_type": "code",
        "colab": {}
      },
      "source": [
        "gpt2.copy_checkpoint_from_gdrive(run_name='run1')"
      ],
      "execution_count": 0,
      "outputs": []
    },
    {
      "cell_type": "markdown",
      "metadata": {
        "id": "RTa6zf3e_9gV",
        "colab_type": "text"
      },
      "source": [
        "The next cell will allow you to load the retrained model checkpoint + metadata necessary to generate text.\n",
        "\n",
        "**IMPORTANT NOTE:** If you want to rerun this cell, **restart the VM first** (Runtime -> Restart Runtime). You will need to rerun imports but not recopy files."
      ]
    },
    {
      "cell_type": "code",
      "metadata": {
        "id": "-fxL77nvAMAX",
        "colab_type": "code",
        "outputId": "1cdcd469-0e04-4def-d041-5b443258b1cf",
        "colab": {
          "base_uri": "https://localhost:8080/",
          "height": 50
        }
      },
      "source": [
        "sess = gpt2.start_tf_sess()\n",
        "gpt2.load_gpt2(sess, run_name='run1')"
      ],
      "execution_count": 0,
      "outputs": [
        {
          "output_type": "stream",
          "text": [
            "Loading checkpoint checkpoint/run1/model-2000\n",
            "INFO:tensorflow:Restoring parameters from checkpoint/run1/model-2000\n"
          ],
          "name": "stdout"
        }
      ]
    },
    {
      "cell_type": "markdown",
      "metadata": {
        "id": "ClJwpF_ACONp",
        "colab_type": "text"
      },
      "source": [
        "## Generate Text From The Trained Model\n",
        "\n",
        "After you've trained the model or loaded a retrained model from checkpoint, you can now generate text. `generate` generates a single text from the loaded model.\n",
        "\n",
        "However, for tweets, generating from the base model alone won't be as fruitful due to the necessary encoding. For a solution to that, see the next cell."
      ]
    },
    {
      "cell_type": "code",
      "metadata": {
        "id": "4RNY6RBI9LmL",
        "colab_type": "code",
        "outputId": "79758fd9-4cfd-40e8-b07f-d460861590da",
        "colab": {
          "base_uri": "https://localhost:8080/",
          "height": 790
        }
      },
      "source": [
        "gpt2.generate(sess, run_name='run1')"
      ],
      "execution_count": 0,
      "outputs": [
        {
          "output_type": "stream",
          "text": [
            "<|startoftext|>my back and my stomach: one story<|endoftext|>\n",
            "<|startoftext|>my beauty is that I'm scared to live<|endoftext|>\n",
            "<|startoftext|>my beauty is that I'm scared to live<|endoftext|>\n",
            "<|startoftext|>my beauty is that I'm so judgmental<|endoftext|>\n",
            "<|startoftext|>my beauty is that I'm so judgmental<|endoftext|>\n",
            "<|startoftext|>my beauty is that I'm so lonely<|endoftext|>\n",
            "<|startoftext|>my beauty is that I'm the sexiest thing you ever seen<|endoftext|>\n",
            "<|startoftext|>my beauty is that I'm the sexiest thing you ever seen<|endoftext|>\n",
            "<|startoftext|>my beauty is that I'm the most bored person ever<|endoftext|>\n",
            "<|startoftext|>my beauty is that I'm the most bored person ever<|endoftext|>\n",
            "<|startoftext|>my beauty is that I'm the most depressed person ever<|endoftext|>\n",
            "<|startoftext|>my beauty is that I'm the most self-conscious person ever<|endoftext|>\n",
            "<|startoftext|>my beauty is that I'm the most self-conscious person ever<|endoftext|>\n",
            "<|startoftext|>my beauty is that I'm the punkest thing you ever seen<|endoftext|>\n",
            "<|startoftext|>my beauty is that I'm the most socially awkward person ever<|endoftext|>\n",
            "<|startoftext|>my beauty is that I'm the most socially awkward person ever<|endoftext|>\n",
            "<|startoftext|>my beauty is that i'm the most unhealthily obsessed with people<|endoftext|>\n",
            "<|startoftext|>my beauty is you ignoring me<|endoftext|>\n",
            "<|startoftext|>my beauty is you ignoring me<|endoftext|>\n",
            "<|startoftext|>my beauty is you ignoring me<|endoftext|>\n",
            "<|startoftext|>my beauty is your fatter friend<|endoftext|>\n",
            "<|startoftext|>my beauty is your fatter friend<|endoftext|>\n",
            "<|startoftext|>my beauty is your funeral<|endoftext|>\n",
            "<|startoftext|>my beauty is your funeral<|endoftext|>\n",
            "<|startoftext|>my beauty is your funeral<|endoftext|>\n",
            "<|startoftext|>my beauty is your funeral<|endoftext|>\n",
            "<|startoftext|>my beauty is your funeral<|endoftext|>\n",
            "<|startoftext|>my beauty is your funeral<|endoftext|>\n",
            "<|startoftext|>my beauty is your nudes<|endoftext|>\n",
            "<|startoftext|>my beauty is your nudes<|endoftext|>\n",
            "<|startoftext|>my beauty is your nudes<|endoftext|>\n",
            "<|startoftext|>my beauty is your phone<|endoftext|>\n",
            "<|startoftext|>my beauty is your sex<|endoftext|>\n",
            "<|startoftext|>my beauty is your sex<|endoftext|>\n",
            "<|startoftext|>my beauty is your sex<|endoftext|>\n",
            "<|startoftext|>my beauty is your tattoo<|endoftext|>\n",
            "<|startoftext|>my beauty is your tan skin<|endoftext|>\n",
            "<|startoftext|>my beauty is your tan skin<|endoftext|>\n",
            "<|startoftext|>my beauty is your tan skin<|endoftext|>\n",
            "<|startoftext|>my beauty is your tan skin<|endoftext|>\n",
            "<|startoftext|>my beauty is your tan skin<|endoftext|>\n",
            "<|startoftext|>my beauty is your tan skin<|endoftext|>\n",
            "<|startoftext|>my beauty is your tan skin<|endoftext|>\n",
            "<|startoftext|>my beauty is your tan skin<|endoftext|>\n",
            "<|startoftext|>my beauty is your tan skin<|endoftext|>\n",
            "<\n"
          ],
          "name": "stdout"
        }
      ]
    },
    {
      "cell_type": "markdown",
      "metadata": {
        "id": "oF4-PqF0Fl7R",
        "colab_type": "text"
      },
      "source": [
        "If you're creating an API based on your model and need to pass the generated text elsewhere, you can do `text = gpt2.generate(sess, return_as_list=True)[0]`\n",
        "\n",
        "You can also pass in a `prefix` to the generate function to force the text to start with a given character sequence and generate text from there (good if you add an indicator when the text starts).\n",
        "\n",
        "You can also generate multiple texts at a time by specifing `nsamples`. Unique to GPT-2, you can pass a `batch_size` to generate multiple samples in parallel, giving a massive speedup (in Colaboratory, set a maximum of 20 for `batch_size`).\n",
        "\n",
        "Other optional-but-helpful parameters for `gpt2.generate` and friends:\n",
        "\n",
        "*  **`length`**: Number of tokens to generate (default 1023, the maximum)\n",
        "* **`temperature`**: The higher the temperature, the crazier the text (default 0.7, recommended to keep between 0.7 and 1.0)\n",
        "* **`top_k`**: Limits the generated guesses to the top *k* guesses (default 0 which disables the behavior; if the generated output is super crazy, you may want to set `top_k=40`)\n",
        "* **`top_p`**: Nucleus sampling: limits the generated guesses to a cumulative probability. (gets good results on a dataset with `top_p=0.9`)\n",
        "* **`truncate`**: Truncates the input text until a given sequence, excluding that sequence (e.g. if `truncate='<|endoftext|>'`, the returned text will include everything before the first `<|endoftext|>`). It may be useful to combine this with a smaller `length` if the input texts are short.\n",
        "*  **`include_prefix`**: If using `truncate` and `include_prefix=False`, the specified `prefix` will not be included in the returned text.\n",
        "\n",
        "Tweets require specific `prefix`, `truncate`, and `include_prefix` as demoed below."
      ]
    },
    {
      "cell_type": "code",
      "metadata": {
        "id": "8DKMc0fiej4N",
        "colab_type": "code",
        "outputId": "1ef77be8-6682-405d-a17b-3640b2a318db",
        "colab": {
          "base_uri": "https://localhost:8080/",
          "height": 1000
        }
      },
      "source": [
        "gpt2.generate(sess,\n",
        "              length=200,\n",
        "              temperature=0.7,\n",
        "              prefix='<|startoftext|>',\n",
        "              truncate='<|endoftext|>',\n",
        "              include_prefix=False,\n",
        "              nsamples=20,\n",
        "              batch_size=20\n",
        "              )"
      ],
      "execution_count": 0,
      "outputs": [
        {
          "output_type": "stream",
          "text": [
            "sad boys playing sad games\n",
            "====================\n",
            "fuck me on the head on the tip of a fedora\n",
            "====================\n",
            "you're taking my feelings away from me again? i'm sort of okay with that!\n",
            "====================\n",
            "tired or dying?\n",
            "\n",
            "i'm either dying or tired\n",
            "====================\n",
            "*talks to self*\n",
            "\n",
            "yes\n",
            "\n",
            "*words to self*\n",
            "\n",
            "yes\n",
            "\n",
            "*words to self*\n",
            "\n",
            "yes\n",
            "\n",
            "*words to self*\n",
            "\n",
            "yes\n",
            "\n",
            "*words to self*\n",
            "\n",
            "yes\n",
            "\n",
            "*thousands of poems*\n",
            "====================\n",
            "people are not for me\n",
            "====================\n",
            "you know who is probably sad underneath? everyone\n",
            "====================\n",
            "i am definitely not going to sleep at night anymore, unless it’s a peaceful death for me\n",
            "====================\n",
            "if you like being alone with cats you'll love this book\n",
            "====================\n",
            "can i get some fresh air?\n",
            "====================\n",
            "sadonna is back in the game\n",
            "====================\n",
            "i don’t like people with lives but i respect that people are so annoying\n",
            "====================\n",
            "why am i here (in my car)\n",
            "====================\n",
            "sad children of the sad corn\n",
            "====================\n",
            "you don't need to be perfect to be happy jk\n",
            "====================\n",
            "can't say I blame my parents for making me what I am today, but I suspect they did\n",
            "====================\n",
            "fuck me at cheesecake factory\n",
            "====================\n",
            "can i have some cereal?\n",
            "====================\n",
            "i’m tired of being brave and i’m not even brave anymore\n",
            "====================\n",
            "*doesnt leave the house*\n",
            "====================\n"
          ],
          "name": "stdout"
        }
      ]
    },
    {
      "cell_type": "markdown",
      "metadata": {
        "id": "zjjEN2Tafhl2",
        "colab_type": "text"
      },
      "source": [
        "For bulk generation, you can generate a large amount of text to a file and sort out the samples locally on your computer. The next cell will generate a generated text file with a unique timestamp.\n",
        "\n",
        "You can rerun the cells as many times as you want for even more generated texts!"
      ]
    },
    {
      "cell_type": "code",
      "metadata": {
        "id": "Fa6p6arifSL0",
        "colab_type": "code",
        "outputId": "af60c394-44eb-4ca1-f4bb-2fddd63fc9a7",
        "colab": {
          "base_uri": "https://localhost:8080/",
          "height": 87
        }
      },
      "source": [
        "gen_file = 'gpt2_gentext_{:%Y%m%d_%H%M%S}.txt'.format(datetime.utcnow())\n",
        "\n",
        "gpt2.generate_to_file(sess,\n",
        "                      destination_path=gen_file,\n",
        "                      length=200,\n",
        "                      temperature=1.0,\n",
        "                      top_p=0.9,\n",
        "                      prefix='<|startoftext|>',\n",
        "                      truncate='<|endoftext|>',\n",
        "                      include_prefix=False,\n",
        "                      nsamples=1000,\n",
        "                      batch_size=20\n",
        "                      )"
      ],
      "execution_count": 0,
      "outputs": [
        {
          "output_type": "stream",
          "text": [
            "WARNING:tensorflow:From /usr/local/lib/python3.6/dist-packages/gpt_2_simple/src/sample.py:32: where (from tensorflow.python.ops.array_ops) is deprecated and will be removed in a future version.\n",
            "Instructions for updating:\n",
            "Use tf.where in 2.0, which has the same broadcast rule as np.where\n"
          ],
          "name": "stdout"
        }
      ]
    },
    {
      "cell_type": "code",
      "metadata": {
        "id": "0-LRex8lfv1g",
        "colab_type": "code",
        "colab": {}
      },
      "source": [
        "# may have to run twice to get file to download\n",
        "files.download(gen_file)"
      ],
      "execution_count": 0,
      "outputs": []
    },
    {
      "cell_type": "markdown",
      "metadata": {
        "id": "aPGdtsnXjRqm",
        "colab_type": "text"
      },
      "source": [
        "If you want to generate a large number of 1,000 tweet files without having to click a cell button multiple times, you can use the cell below. You can then download the generated files by right-clicking them in the Files sidebar."
      ]
    },
    {
      "cell_type": "code",
      "metadata": {
        "id": "u45EtVUsjM8R",
        "colab_type": "code",
        "colab": {}
      },
      "source": [
        "num_files = 10\n",
        "\n",
        "for _ in range(num_files):\n",
        "  gen_file = 'gpt2_gentext_{:%Y%m%d_%H%M%S}.txt'.format(datetime.utcnow())\n",
        "\n",
        "  gpt2.generate_to_file(sess,\n",
        "                        destination_path=gen_file,\n",
        "                        length=200,\n",
        "                        temperature=1.0,\n",
        "                        top_p=0.9,\n",
        "                        prefix='<|startoftext|>',\n",
        "                        truncate='<|endoftext|>',\n",
        "                        include_prefix=False,\n",
        "                        nsamples=1000,\n",
        "                        batch_size=20\n",
        "                        )"
      ],
      "execution_count": 0,
      "outputs": []
    },
    {
      "cell_type": "markdown",
      "metadata": {
        "id": "ig-KVgkCDCKD",
        "colab_type": "text"
      },
      "source": [
        "# Etcetera\n",
        "\n",
        "If the notebook has errors (e.g. GPU Sync Fail), force-kill the Colaboratory virtual machine and restart it with the command below:"
      ]
    },
    {
      "cell_type": "code",
      "metadata": {
        "id": "rIHiVP53FnsX",
        "colab_type": "code",
        "colab": {}
      },
      "source": [
        "!kill -9 -1"
      ],
      "execution_count": 0,
      "outputs": []
    },
    {
      "cell_type": "markdown",
      "metadata": {
        "id": "wmTXWNUygS5E",
        "colab_type": "text"
      },
      "source": [
        "# LICENSE\n",
        "\n",
        "MIT License\n",
        "\n",
        "Copyright (c) 2019-2020 Max Woolf\n",
        "\n",
        "Permission is hereby granted, free of charge, to any person obtaining a copy\n",
        "of this software and associated documentation files (the \"Software\"), to deal\n",
        "in the Software without restriction, including without limitation the rights\n",
        "to use, copy, modify, merge, publish, distribute, sublicense, and/or sell\n",
        "copies of the Software, and to permit persons to whom the Software is\n",
        "furnished to do so, subject to the following conditions:\n",
        "\n",
        "The above copyright notice and this permission notice shall be included in all\n",
        "copies or substantial portions of the Software.\n",
        "\n",
        "THE SOFTWARE IS PROVIDED \"AS IS\", WITHOUT WARRANTY OF ANY KIND, EXPRESS OR\n",
        "IMPLIED, INCLUDING BUT NOT LIMITED TO THE WARRANTIES OF MERCHANTABILITY,\n",
        "FITNESS FOR A PARTICULAR PURPOSE AND NONINFRINGEMENT. IN NO EVENT SHALL THE\n",
        "AUTHORS OR COPYRIGHT HOLDERS BE LIABLE FOR ANY CLAIM, DAMAGES OR OTHER\n",
        "LIABILITY, WHETHER IN AN ACTION OF CONTRACT, TORT OR OTHERWISE, ARISING FROM,\n",
        "OUT OF OR IN CONNECTION WITH THE SOFTWARE OR THE USE OR OTHER DEALINGS IN THE\n",
        "SOFTWARE."
      ]
    }
  ]
}